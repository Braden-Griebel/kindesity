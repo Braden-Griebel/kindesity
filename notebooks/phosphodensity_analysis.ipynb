{
 "cells": [
  {
   "cell_type": "markdown",
   "id": "796f11c5-d1e2-4bff-a35b-39c8df8a2993",
   "metadata": {},
   "source": [
    "# Phosphorylation Density Analysis"
   ]
  },
  {
   "cell_type": "markdown",
   "id": "524f97ae-311d-4a26-840c-8a03af7730de",
   "metadata": {},
   "source": [
    "## Setup"
   ]
  },
  {
   "cell_type": "code",
   "execution_count": 1,
   "id": "a3b1ad91-e66f-4920-8eae-7a0b2276a9e8",
   "metadata": {},
   "outputs": [],
   "source": [
    "# Standard Library Imports\n",
    "from collections import defaultdict\n",
    "import pathlib\n",
    "\n",
    "# External Imports\n",
    "import networkx as nx\n",
    "import numpy as np\n",
    "import pandas as pd\n",
    "import metworkpy\n",
    "\n",
    "# Local Imports"
   ]
  },
  {
   "cell_type": "code",
   "execution_count": 2,
   "id": "991c205e-9db1-44f9-a125-dcb27656beaf",
   "metadata": {},
   "outputs": [],
   "source": [
    "DATA_PATH = pathlib.Path(\"..\") / \"data\"\n",
    "RESULTS_PATH = pathlib.Path(\"..\") / \"results\""
   ]
  },
  {
   "cell_type": "code",
   "execution_count": 3,
   "id": "2861672a-6f03-4607-ac6d-918c0fdf005f",
   "metadata": {},
   "outputs": [],
   "source": [
    "# List of Kinases\n",
    "kinase_list = [\"PknB\", \"PknD\", \"PknE\", \"PknF\", \"PknG\", \"PknH\", \"PknI\", \"PknJ\", \"PknK\", \"PknL\"]"
   ]
  },
  {
   "cell_type": "markdown",
   "id": "a73a4352-4a84-4a72-81c7-2061c7113fea",
   "metadata": {},
   "source": [
    "## Read in Gene Info"
   ]
  },
  {
   "cell_type": "code",
   "execution_count": 4,
   "id": "610043b7-db8b-4d3a-93e1-a1f43d774d75",
   "metadata": {},
   "outputs": [],
   "source": [
    "gene_info_df = pd.read_csv(DATA_PATH / \"gene_data\" / \n",
    "                          \"Mycobacterium_tuberculosis_H37Rv_txt_v4.txt\",\n",
    "                          sep=\"\\t\").set_index(\"Locus\")"
   ]
  },
  {
   "cell_type": "markdown",
   "id": "368e7437-8096-4e1f-8669-0c3d4ac48b3b",
   "metadata": {},
   "source": [
    "## Read in Phosphorylation Data"
   ]
  },
  {
   "cell_type": "code",
   "execution_count": null,
   "id": "2a96feb3-8f8c-4a7d-9087-b3ae88f55319",
   "metadata": {},
   "outputs": [],
   "source": [
    "phosphorylations_dict = {}\n",
    "for kinase in kinase_list:\n",
    "    df = pd.read_excel(DATA_PATH / \"phosphorylation\" / \"frando_phosphorylation_data.xlsx\",\n",
    "                      sheet_name=kinase,\n",
    "                      index_col=None, \n",
    "                      header=0)\n",
    "    phosphorylations_dict[kinase] = df.groupby(\"Rv Number\")[\"Phosphosite\"].count()"
   ]
  },
  {
   "cell_type": "markdown",
   "id": "bc177452-15bc-469b-aa3e-3f9fec323f01",
   "metadata": {},
   "source": [
    "## Prepare Network"
   ]
  },
  {
   "cell_type": "markdown",
   "id": "ed5c1462-d6c0-402f-a5af-116dba87784b",
   "metadata": {},
   "source": [
    "### Read in Model"
   ]
  },
  {
   "cell_type": "code",
   "execution_count": null,
   "id": "0517de1f-dbdc-4452-b7d4-603610be7fe6",
   "metadata": {},
   "outputs": [],
   "source": [
    "model = metworkpy.read_model(str(DATA_PATH / \"models\" / \"iEK1011_m7H10_media.json\"))"
   ]
  },
  {
   "cell_type": "markdown",
   "id": "b783c1b0-7f81-4f14-abc8-1dc9dc4742c0",
   "metadata": {},
   "source": [
    "### Convert Model to Network"
   ]
  },
  {
   "cell_type": "code",
   "execution_count": null,
   "id": "4d2e5486-dc10-40f9-878e-c84cd3097f8e",
   "metadata": {},
   "outputs": [],
   "source": [
    "REMOVE_LIST = [\"h_c\", \"h2o_c\", \"atp_c\", \"pi_c\", \"coa_c\",\"adp_c\", \"co2_c\", \"nad_c\", \"ppi_c\", \"nadh_c\", \"biomass\", \"nadp_c\", \"nadph_c\", \"amp_c\"]\n",
    "\n",
    "metabolic_network = metworkpy.create_network(model = model, \n",
    "                                            weighted = False,\n",
    "                                            directed=False, \n",
    "                                            nodes_to_remove=REMOVE_LIST)"
   ]
  },
  {
   "cell_type": "markdown",
   "id": "6d011bdf-7d2e-4777-b4bb-27086b66fe94",
   "metadata": {},
   "source": [
    "### Project Network onto Reactions"
   ]
  },
  {
   "cell_type": "code",
   "execution_count": null,
   "id": "8b1201ec-5752-475f-9fc4-ee7be45dc5fd",
   "metadata": {},
   "outputs": [],
   "source": [
    "rxn_list = model.reactions.list_attr(\"id\")\n",
    "rxn_list.remove(\"biomass\")\n",
    "\n",
    "reaction_network = metworkpy.bipartite_project(metabolic_network,\n",
    "                                               node_set = rxn_list,\n",
    "                                              directed=False)"
   ]
  },
  {
   "cell_type": "markdown",
   "id": "db838530-cf40-43dc-a3f4-b20f3d5e8460",
   "metadata": {},
   "source": [
    "## Prepare Label Data"
   ]
  },
  {
   "cell_type": "code",
   "execution_count": null,
   "id": "db6f9801-ab6a-458b-a384-20c4ce0b6589",
   "metadata": {},
   "outputs": [],
   "source": [
    "label_dict = {}\n",
    "for kinase, targets in phosphorylations_dict.items():\n",
    "    rxn_dict = defaultdict(int)\n",
    "    for gene, value in targets.items():\n",
    "        if gene in model.genes:\n",
    "            for rxn in model.genes.get_by_id(gene).reactions:\n",
    "                rxn_dict[rxn.id] += value \n",
    "    label_dict[kinase] = rxn_dict"
   ]
  },
  {
   "cell_type": "markdown",
   "id": "da19af1d-b6e8-45e2-9ebf-43aa2e12e594",
   "metadata": {},
   "source": [
    "## Find Density and Clusters"
   ]
  },
  {
   "cell_type": "code",
   "execution_count": null,
   "id": "a762199c-6869-4ac8-9da0-80416cb99529",
   "metadata": {},
   "outputs": [],
   "source": [
    "RADIUS = 0\n",
    "\n",
    "rxn_density_series_list = []\n",
    "for kinase, rxn_dict in label_dict.items():\n",
    "    density_series = metworkpy.label_density(reaction_network, \n",
    "                                            labels = rxn_dict,\n",
    "                                            radius=RADIUS)\n",
    "    density_series.name = kinase\n",
    "    density_series = (density_series - density_series.min())/(density_series.max() - density_series.min())\n",
    "    rxn_density_series_list.append(density_series)\n",
    "    density_series.to_json(RESULTS_PATH / \"escher\" / \"rxn_density\" /f\"{kinase}_rxn_density.json\")\n",
    "    cluster_df = metworkpy.find_dense_clusters(\n",
    "        network=reaction_network,\n",
    "        labels=rxn_dict, \n",
    "        radius=RADIUS, \n",
    "        quantile_cutoff=0.20,\n",
    "    )\n",
    "    gene_cluster_df = metworkpy.reaction_to_gene_df(\n",
    "        model=model, \n",
    "        reaction_df = cluster_df,\n",
    "    )\n",
    "    gene_cluster_df[\"density\"] = (gene_cluster_df[\"density\"] - gene_cluster_df[\"density\"].min())/(gene_cluster_df[\"density\"].max() - gene_cluster_df[\"density\"].min())\n",
    "    gene_cluster_df = gene_cluster_df.merge(gene_info_df, \n",
    "                         left_index=True,\n",
    "                         right_index=True, how=\"left\")\n",
    "    gene_cluster_df.to_csv(RESULTS_PATH / f\"{kinase}_density_clusters.csv\")\n",
    "    \n",
    "\n",
    "rxn_density_df = pd.concat(rxn_density_series_list, axis=1)\n",
    "rxn_density_df.to_csv(RESULTS_PATH / \"reaction_phosphorylation_density.csv\")\n",
    "gene_density_df = metworkpy.reaction_to_gene_df(model=model, reaction_df = rxn_density_df)\n",
    "gene_density_df = gene_density_df.merge(gene_info_df, left_index=True, \n",
    "                     right_index=True, how=\"left\")\n",
    "gene_density_df.to_csv(RESULTS_PATH / \"gene_phosphorylation_density.csv\")\n"
   ]
  }
 ],
 "metadata": {
  "kernelspec": {
   "display_name": "Python 3 (ipykernel)",
   "language": "python",
   "name": "python3"
  },
  "language_info": {
   "codemirror_mode": {
    "name": "ipython",
    "version": 3
   },
   "file_extension": ".py",
   "mimetype": "text/x-python",
   "name": "python",
   "nbconvert_exporter": "python",
   "pygments_lexer": "ipython3",
   "version": "3.12.5"
  }
 },
 "nbformat": 4,
 "nbformat_minor": 5
}
